{
 "cells": [
  {
   "cell_type": "markdown",
   "metadata": {},
   "source": [
    "# Tema1 "
   ]
  },
  {
   "cell_type": "code",
   "execution_count": 47,
   "metadata": {},
   "outputs": [
    {
     "name": "stdout",
     "output_type": "stream",
     "text": [
      "10,15,20,30\n",
      "20,25,50,80\n",
      "50,54,55,70\n",
      "30,35,60,13\n",
      "40,45,70,30\n",
      "60,66,12,17 \n",
      "[[10, 15, 20, 30], [20, 25, 50, 80], [50, 54, 55, 70], [30, 35, 60, 13], [40, 45, 70, 30], [60, 66, 12, 17]]\n"
     ]
    }
   ],
   "source": [
    "# Open the file and read the elements\n",
    "f = open(\"numbers.txt\", \"r\")\n",
    "print(f.read())\n",
    "\n",
    "# We create a list with the elements from the file\n",
    "f = open ( 'numbers.txt' , 'r')\n",
    "CreateList=lambda line: list(map(int,str.split(line[:-1],',')))\n",
    "thelist = [ CreateList(line) for line in f]\n",
    "print(thelist)"
   ]
  },
  {
   "cell_type": "code",
   "execution_count": 74,
   "metadata": {},
   "outputs": [
    {
     "name": "stdout",
     "output_type": "stream",
     "text": [
      "Sum the numbers on each line using sum() is  [75, 175, 229, 138, 185, 155] .\n",
      "Sum the numbers on each line using a defined function is [75, 175, 229, 138, 185, 155] .\n"
     ]
    }
   ],
   "source": [
    "# 1.Sum the numbers on each line\n",
    "\n",
    "# Use the function sum()\n",
    "sumLine1=[]\n",
    "for line in thelist:\n",
    "    sumLine1.append(sum(line))\n",
    "print (\"Sum of the numbers on each line using sum() is \",sumLine1,\".\")\n",
    "\n",
    "# Define a function sum\n",
    "def suma(s):\n",
    "    total=0\n",
    "    for x in s:\n",
    "        total+=x\n",
    "    return total\n",
    "sumLine2=[]\n",
    "for line in thelist:\n",
    "    sumLine2.append(suma(line))\n",
    "print (\"Sum of the numbers on each line using a defined function is\",sumLine2,\".\") "
   ]
  },
  {
   "cell_type": "code",
   "execution_count": 73,
   "metadata": {},
   "outputs": [
    {
     "name": "stdout",
     "output_type": "stream",
     "text": [
      "Sum all the numbers is 957 .\n"
     ]
    }
   ],
   "source": [
    "# 2.Sum all the numbers\n",
    "sumTotal=0\n",
    "for line in thelist:\n",
    "    sumTotal+=sum(line)\n",
    "print (\"Sum of all the numbers is\",sumTotal,\".\")  "
   ]
  },
  {
   "cell_type": "code",
   "execution_count": 86,
   "metadata": {},
   "outputs": [
    {
     "name": "stdout",
     "output_type": "stream",
     "text": [
      "The list with all the elements is [10, 15, 20, 30, 20, 25, 50, 80, 50, 54, 55, 70, 30, 35, 60, 13, 40, 45, 70, 30, 60, 66, 12, 17]\n"
     ]
    }
   ],
   "source": [
    "# 3.Concatenate them all into a single list\n",
    "thelistconcatenate=[]\n",
    "for line in thelist:\n",
    "    for elem in line:\n",
    "        thelistconcatenate.append(elem)\n",
    "print (\"The list with all the elements is\",thelistconcatenate)"
   ]
  },
  {
   "cell_type": "code",
   "execution_count": 81,
   "metadata": {},
   "outputs": [
    {
     "name": "stdout",
     "output_type": "stream",
     "text": [
      "There are 13 elements larger than 30.1\n"
     ]
    }
   ],
   "source": [
    "# 4.Count how many of them are larger than 30.1\n",
    "number=0;\n",
    "for line in thelist:\n",
    "    for elem in line:\n",
    "        if elem>30.1:\n",
    "            number+=1\n",
    "print(\"There are\",number,\"elements larger than 30.1\")"
   ]
  },
  {
   "cell_type": "code",
   "execution_count": 85,
   "metadata": {},
   "outputs": [
    {
     "name": "stdout",
     "output_type": "stream",
     "text": [
      "Exista 0 mai mici fata de numarul 0\n",
      "Exista 0 mai mici fata de numarul 1\n",
      "Exista 0 mai mici fata de numarul 2\n",
      "Exista 0 mai mici fata de numarul 3\n",
      "Exista 0 mai mici fata de numarul 4\n",
      "Exista 0 mai mici fata de numarul 5\n",
      "Exista 0 mai mici fata de numarul 6\n",
      "Exista 0 mai mici fata de numarul 7\n",
      "Exista 0 mai mici fata de numarul 8\n",
      "Exista 0 mai mici fata de numarul 9\n",
      "Exista 0 mai mici fata de numarul 10\n",
      "Exista 1 mai mici fata de numarul 11\n",
      "Exista 1 mai mici fata de numarul 12\n",
      "Exista 2 mai mici fata de numarul 13\n",
      "Exista 3 mai mici fata de numarul 14\n",
      "Exista 3 mai mici fata de numarul 15\n",
      "Exista 4 mai mici fata de numarul 16\n",
      "Exista 4 mai mici fata de numarul 17\n",
      "Exista 5 mai mici fata de numarul 18\n",
      "Exista 5 mai mici fata de numarul 19\n",
      "Exista 5 mai mici fata de numarul 20\n",
      "Exista 7 mai mici fata de numarul 21\n",
      "Exista 7 mai mici fata de numarul 22\n",
      "Exista 7 mai mici fata de numarul 23\n",
      "Exista 7 mai mici fata de numarul 24\n",
      "Exista 7 mai mici fata de numarul 25\n",
      "Exista 8 mai mici fata de numarul 26\n",
      "Exista 8 mai mici fata de numarul 27\n",
      "Exista 8 mai mici fata de numarul 28\n",
      "Exista 8 mai mici fata de numarul 29\n",
      "Exista 8 mai mici fata de numarul 30\n",
      "Exista 11 mai mici fata de numarul 31\n",
      "Exista 11 mai mici fata de numarul 32\n",
      "Exista 11 mai mici fata de numarul 33\n",
      "Exista 11 mai mici fata de numarul 34\n",
      "Exista 11 mai mici fata de numarul 35\n",
      "Exista 12 mai mici fata de numarul 36\n",
      "Exista 12 mai mici fata de numarul 37\n",
      "Exista 12 mai mici fata de numarul 38\n",
      "Exista 12 mai mici fata de numarul 39\n",
      "Exista 12 mai mici fata de numarul 40\n",
      "Exista 13 mai mici fata de numarul 41\n",
      "Exista 13 mai mici fata de numarul 42\n",
      "Exista 13 mai mici fata de numarul 43\n",
      "Exista 13 mai mici fata de numarul 44\n",
      "Exista 13 mai mici fata de numarul 45\n",
      "Exista 14 mai mici fata de numarul 46\n",
      "Exista 14 mai mici fata de numarul 47\n",
      "Exista 14 mai mici fata de numarul 48\n",
      "Exista 14 mai mici fata de numarul 49\n",
      "Exista 14 mai mici fata de numarul 50\n",
      "Exista 16 mai mici fata de numarul 51\n",
      "Exista 16 mai mici fata de numarul 52\n",
      "Exista 16 mai mici fata de numarul 53\n",
      "Exista 16 mai mici fata de numarul 54\n",
      "Exista 17 mai mici fata de numarul 55\n",
      "Exista 18 mai mici fata de numarul 56\n",
      "Exista 18 mai mici fata de numarul 57\n",
      "Exista 18 mai mici fata de numarul 58\n",
      "Exista 18 mai mici fata de numarul 59\n",
      "Exista 18 mai mici fata de numarul 60\n",
      "Exista 20 mai mici fata de numarul 61\n",
      "Exista 20 mai mici fata de numarul 62\n",
      "Exista 20 mai mici fata de numarul 63\n",
      "Exista 20 mai mici fata de numarul 64\n",
      "Exista 20 mai mici fata de numarul 65\n",
      "Exista 20 mai mici fata de numarul 66\n",
      "Exista 21 mai mici fata de numarul 67\n",
      "Exista 21 mai mici fata de numarul 68\n",
      "Exista 21 mai mici fata de numarul 69\n",
      "Exista 21 mai mici fata de numarul 70\n",
      "Exista 23 mai mici fata de numarul 71\n",
      "Exista 23 mai mici fata de numarul 72\n",
      "Exista 23 mai mici fata de numarul 73\n",
      "Exista 23 mai mici fata de numarul 74\n",
      "Exista 23 mai mici fata de numarul 75\n",
      "Exista 23 mai mici fata de numarul 76\n",
      "Exista 23 mai mici fata de numarul 77\n",
      "Exista 23 mai mici fata de numarul 78\n",
      "Exista 23 mai mici fata de numarul 79\n",
      "Exista 23 mai mici fata de numarul 80\n",
      "Exista 24 mai mici fata de numarul 81\n",
      "Exista 24 mai mici fata de numarul 82\n",
      "Exista 24 mai mici fata de numarul 83\n",
      "Exista 24 mai mici fata de numarul 84\n",
      "Exista 24 mai mici fata de numarul 85\n",
      "Exista 24 mai mici fata de numarul 86\n",
      "Exista 24 mai mici fata de numarul 87\n",
      "Exista 24 mai mici fata de numarul 88\n",
      "Exista 24 mai mici fata de numarul 89\n",
      "Exista 24 mai mici fata de numarul 90\n",
      "Exista 24 mai mici fata de numarul 91\n",
      "Exista 24 mai mici fata de numarul 92\n",
      "Exista 24 mai mici fata de numarul 93\n",
      "Exista 24 mai mici fata de numarul 94\n",
      "Exista 24 mai mici fata de numarul 95\n",
      "Exista 24 mai mici fata de numarul 96\n",
      "Exista 24 mai mici fata de numarul 97\n",
      "Exista 24 mai mici fata de numarul 98\n",
      "Exista 24 mai mici fata de numarul 99\n"
     ]
    }
   ],
   "source": [
    "# 4.For each natural number threshold from 1 to 100 show how many numbers are smaller than it\n",
    "\n",
    "for x in range(100):\n",
    "    count=0\n",
    "    for y in thelistconcatenate:\n",
    "        if y<x:\n",
    "            count+=1\n",
    "    print(\"Exista\",count,\"mai mici fata de numarul\",x)"
   ]
  },
  {
   "cell_type": "code",
   "execution_count": null,
   "metadata": {},
   "outputs": [],
   "source": []
  }
 ],
 "metadata": {
  "kernelspec": {
   "display_name": "Python 3",
   "language": "python",
   "name": "python3"
  },
  "language_info": {
   "codemirror_mode": {
    "name": "ipython",
    "version": 3
   },
   "file_extension": ".py",
   "mimetype": "text/x-python",
   "name": "python",
   "nbconvert_exporter": "python",
   "pygments_lexer": "ipython3",
   "version": "3.7.4"
  }
 },
 "nbformat": 4,
 "nbformat_minor": 2
}
