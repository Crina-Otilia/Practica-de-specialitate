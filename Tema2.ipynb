{
 "cells": [
  {
   "cell_type": "markdown",
   "metadata": {},
   "source": [
    "##Tema2"
   ]
  },
  {
   "cell_type": "code",
   "execution_count": 41,
   "metadata": {},
   "outputs": [],
   "source": [
    "#1.Import numpy as np\n",
    "import numpy as np"
   ]
  },
  {
   "cell_type": "code",
   "execution_count": 42,
   "metadata": {},
   "outputs": [
    {
     "data": {
      "text/plain": [
       "array([[0., 0., 0., 0., 0., 0., 0., 0., 0., 0.]])"
      ]
     },
     "execution_count": 42,
     "metadata": {},
     "output_type": "execute_result"
    }
   ],
   "source": [
    "#2.Create 10 zeroes\n",
    "np.zeros((1,10))"
   ]
  },
  {
   "cell_type": "code",
   "execution_count": 43,
   "metadata": {},
   "outputs": [
    {
     "name": "stdout",
     "output_type": "stream",
     "text": [
      "[10 11 12 13 14 15 16 17 18 19 20 21 22 23 24 25 26 27 28 29 30 31 32 33\n",
      " 34 35 36 37 38 39 40 41 42 43 44 45 46 47 48 49 50 51 52 53 54 55 56 57\n",
      " 58 59 60 61 62 63 64 65 66 67 68 69 70 71 72 73 74 75 76 77 78 79 80 81\n",
      " 82 83 84 85 86 87 88 89 90 91 92 93 94 95 96 97 98 99]\n"
     ]
    }
   ],
   "source": [
    "#3.Create a vector with values ranging from 10 to 100\n",
    "vector=np.arange(10,100,1)\n",
    "print(vector)"
   ]
  },
  {
   "cell_type": "code",
   "execution_count": 44,
   "metadata": {},
   "outputs": [
    {
     "data": {
      "text/plain": [
       "array([99, 98, 97, 96, 95, 94, 93, 92, 91, 90, 89, 88, 87, 86, 85, 84, 83,\n",
       "       82, 81, 80, 79, 78, 77, 76, 75, 74, 73, 72, 71, 70, 69, 68, 67, 66,\n",
       "       65, 64, 63, 62, 61, 60, 59, 58, 57, 56, 55, 54, 53, 52, 51, 50, 49,\n",
       "       48, 47, 46, 45, 44, 43, 42, 41, 40, 39, 38, 37, 36, 35, 34, 33, 32,\n",
       "       31, 30, 29, 28, 27, 26, 25, 24, 23, 22, 21, 20, 19, 18, 17, 16, 15,\n",
       "       14, 13, 12, 11, 10])"
      ]
     },
     "execution_count": 44,
     "metadata": {},
     "output_type": "execute_result"
    }
   ],
   "source": [
    "#4.Reverse it\n",
    "np.flip(vector,0)"
   ]
  },
  {
   "cell_type": "code",
   "execution_count": 45,
   "metadata": {},
   "outputs": [
    {
     "data": {
      "text/plain": [
       "array([[10, 11, 12, 13, 14, 15, 16, 17, 18, 19, 20, 21, 22, 23, 24, 25,\n",
       "        26, 27, 28, 29, 30, 31, 32, 33, 34, 35, 36, 37, 38, 39],\n",
       "       [40, 41, 42, 43, 44, 45, 46, 47, 48, 49, 50, 51, 52, 53, 54, 55,\n",
       "        56, 57, 58, 59, 60, 61, 62, 63, 64, 65, 66, 67, 68, 69],\n",
       "       [70, 71, 72, 73, 74, 75, 76, 77, 78, 79, 80, 81, 82, 83, 84, 85,\n",
       "        86, 87, 88, 89, 90, 91, 92, 93, 94, 95, 96, 97, 98, 99]])"
      ]
     },
     "execution_count": 45,
     "metadata": {},
     "output_type": "execute_result"
    }
   ],
   "source": [
    "#5.reshape it to a 3x30\n",
    "vector.reshape(3,30)"
   ]
  },
  {
   "cell_type": "code",
   "execution_count": 46,
   "metadata": {},
   "outputs": [
    {
     "name": "stdout",
     "output_type": "stream",
     "text": [
      "[1 2 9 0 0 1 4 0]\n",
      "Elementele cu indicii [0 1 2 5 6] sunt diferiti de zero.\n"
     ]
    }
   ],
   "source": [
    "#6.Create the vector with elems 1,2,9,0,0,1,4,0. Find indices of non-zero elems\n",
    "vector_elem = np.array([1,2,9,0,0,1,4,0])\n",
    "print(vector_elem)\n",
    "indices=np.nonzero(vector_elem)\n",
    "for x in indices:\n",
    "    print(\"Elementele cu indicii\",x,\"sunt diferiti de zero.\")"
   ]
  },
  {
   "cell_type": "code",
   "execution_count": 47,
   "metadata": {},
   "outputs": [
    {
     "name": "stdout",
     "output_type": "stream",
     "text": [
      "[[1. 0. 0.]\n",
      " [0. 1. 0.]\n",
      " [0. 0. 1.]]\n"
     ]
    }
   ],
   "source": [
    "#7.Create a 3x3 identity matrix\n",
    "identity_matrix=np.identity(3)\n",
    "print(identity_matrix)"
   ]
  },
  {
   "cell_type": "code",
   "execution_count": 53,
   "metadata": {},
   "outputs": [
    {
     "name": "stdout",
     "output_type": "stream",
     "text": [
      "[ 0.18343697  0.36343877  0.88608929 -0.99141886 -0.34221243 -0.80043678\n",
      " -0.20756031  0.4555641   0.25965711 -0.20689798 -0.08277197  0.52304582\n",
      "  0.69004281 -0.89463362 -0.87158341 -0.79774608 -0.68010099  0.80397472\n",
      "  0.19729919  0.01835311 -0.53288403 -0.20159781 -0.51891063  0.79497473\n",
      " -0.3848981   0.39079996  0.15307609  0.73722312 -0.33215703 -0.77703055\n",
      "  0.3424631  -0.95842588 -0.39059548 -0.48608879  0.01454646  0.09145561\n",
      "  0.48764758  0.13434014 -0.39318523 -0.06444875  0.03089703 -0.32689372\n",
      "  0.15064131 -0.09810401 -0.83673516  0.69264623 -0.87826222 -0.4842075\n",
      "  0.90539437 -0.24096797]\n"
     ]
    },
    {
     "data": {
      "text/plain": [
       "-0.08947495304462588"
      ]
     },
     "execution_count": 53,
     "metadata": {},
     "output_type": "execute_result"
    }
   ],
   "source": [
    "#8.Create a random vector of size 50 with values uniformely distributed in (-1, 1). Find the average of these values\n",
    "rand=np.random.uniform(-1, 1, 50)\n",
    "print(rand)\n",
    "np.average(rand)"
   ]
  },
  {
   "cell_type": "code",
   "execution_count": 55,
   "metadata": {},
   "outputs": [
    {
     "data": {
      "text/plain": [
       "array([[0, 0, 0, 0, 0],\n",
       "       [1, 0, 0, 0, 0],\n",
       "       [0, 2, 0, 0, 0],\n",
       "       [0, 0, 3, 0, 0],\n",
       "       [0, 0, 0, 4, 0]])"
      ]
     },
     "execution_count": 55,
     "metadata": {},
     "output_type": "execute_result"
    }
   ],
   "source": [
    "#9.create a 5x5 matrix with 1,2,3,4 just below the 1st diag and 0 in rest\n",
    "np.diag(np.array([1,2,3,4]),k=-1)\n"
   ]
  },
  {
   "cell_type": "code",
   "execution_count": 56,
   "metadata": {},
   "outputs": [
    {
     "name": "stdout",
     "output_type": "stream",
     "text": [
      "[[ 14  20  26  32]\n",
      " [ 26  38  50  62]\n",
      " [ 32  47  62  77]\n",
      " [ 38  56  74  92]\n",
      " [ 44  65  86 107]]\n"
     ]
    }
   ],
   "source": [
    "#10.Create a 5x3 matrix and a 3x4 one. Multiply them\n",
    "matrix1 = np.array([[1,2,3],[3,4,5],[4,5,6],[5,6,7],[6,7,8]])\n",
    "matrix2=np.array([[1,2,3,4],[2,3,4,5],[3,4,5,6]])\n",
    "print(np.dot(matrix1,matrix2))\n",
    "                    "
   ]
  },
  {
   "cell_type": "code",
   "execution_count": 109,
   "metadata": {},
   "outputs": [
    {
     "name": "stdout",
     "output_type": "stream",
     "text": [
      "[4.32524371 0.68981609 4.1303411  2.13747847 0.38402562 2.81002387\n",
      " 2.34872931 3.93945739 1.87497866 3.1858213  1.9039104  3.76860011\n",
      " 1.99418111 1.10253423 3.5039618 ]\n",
      "[3.41719662 1.67172652 1.7861047  3.76701436 2.36116695 0.95660148\n",
      " 2.54678077 1.0690964  1.11833231 2.2957226  2.62338171 2.13553651]\n",
      "Metoda 1\n",
      "[4. 0. 4. 2. 0. 2. 2. 3. 1. 3. 1. 3. 1. 1. 3.]\n",
      "[3. 1. 1. 3. 2. 0. 2. 1. 1. 2. 2. 2.]\n",
      "Metoda 2\n",
      "[4 0 4 2 0 2 2 3 1 3 1 3 1 1 3]\n",
      "[3 1 1 3 2 0 2 1 1 2 2 2]\n",
      "Metoda 3\n",
      "[4. 0. 4. 2. 0. 2. 2. 3. 1. 3. 1. 3. 1. 1. 3.]\n",
      "[3. 1. 1. 3. 2. 0. 2. 1. 1. 2. 2. 2.]\n",
      "Metoda 4\n",
      "[4. 1. 4. 2. 0. 3. 2. 4. 2. 3. 2. 4. 2. 1. 4.]\n",
      "[3. 2. 2. 4. 2. 1. 3. 1. 1. 2. 3. 2.]\n",
      "Metoda 5\n",
      "[4 0 4 2 0 2 2 3 1 3 1 3 1 1 3]\n",
      "[3 1 1 3 2 0 2 1 1 2 2 2]\n",
      "Metoda 6\n",
      "[4. 1. 4. 2. 0. 3. 2. 4. 2. 3. 2. 4. 2. 1. 4.]\n",
      "[3. 2. 2. 4. 2. 1. 3. 1. 1. 2. 3. 2.]\n"
     ]
    }
   ],
   "source": [
    "#11.Using the previous matrix, extract a new one with just the integer part of the values. Find at least 4 methods of doing this\n",
    "matrix_1=5*np.random.random_sample(5*3)\n",
    "matrix_2=5*np.random.random_sample(3*4)\n",
    "print(matrix_1)\n",
    "print(matrix_2)\n",
    "#Met1\n",
    "print(\"Metoda 1\")\n",
    "print(np.trunc(matrix_1))\n",
    "print(np.trunc(matrix_2))\n",
    "#Met2\n",
    "print(\"Metoda 2\")\n",
    "print(matrix_1.astype(int))\n",
    "print(matrix_2.astype(int))\n",
    "#Met3\n",
    "print(\"Metoda 3\")\n",
    "print(np.floor(matrix_1))\n",
    "print(np.floor(matrix_2))\n",
    "#Met4\n",
    "print(\"Metoda 4\")\n",
    "print(np.rint(matrix_1))\n",
    "print(np.rint(matrix_2))\n",
    "#Met5\n",
    "print(\"Metoda 5\")\n",
    "print(np.int_(matrix_1))\n",
    "print(np.int_(matrix_2))\n",
    "#Met6\n",
    "print(\"Metoda 6\")\n",
    "print(np.around(matrix_1))\n",
    "print(np.around(matrix_2))"
   ]
  },
  {
   "cell_type": "code",
   "execution_count": 57,
   "metadata": {},
   "outputs": [
    {
     "name": "stdout",
     "output_type": "stream",
     "text": [
      "[0.97476274 0.4823974  0.21690223 0.58666351 0.87204899 0.88223395\n",
      " 0.58102179 0.54242994 0.37709337 0.2015924  0.61773068 0.05344229\n",
      " 0.87664617 0.65824798 0.02784312 0.4055169  0.13981754 0.8810543\n",
      " 0.89995412 0.27951255 0.39540043 0.35380516 0.48995309 0.21333426\n",
      " 0.43706853]\n"
     ]
    },
    {
     "data": {
      "text/plain": [
       "array([0.02784312, 0.05344229, 0.13981754, 0.2015924 , 0.21333426,\n",
       "       0.21690223, 0.27951255, 0.35380516, 0.37709337, 0.39540043,\n",
       "       0.4055169 , 0.43706853, 0.4823974 , 0.48995309, 0.54242994,\n",
       "       0.58102179, 0.58666351, 0.61773068, 0.65824798, 0.87204899,\n",
       "       0.87664617, 0.8810543 , 0.88223395, 0.89995412, 0.97476274])"
      ]
     },
     "execution_count": 57,
     "metadata": {},
     "output_type": "execute_result"
    }
   ],
   "source": [
    "#12.Create a random vector of size 25. Sort it\n",
    "rand_sort=np.random.uniform(0, 1, 25)\n",
    "print(rand_sort)\n",
    "np.sort(rand_sort)"
   ]
  },
  {
   "cell_type": "code",
   "execution_count": 66,
   "metadata": {},
   "outputs": [
    {
     "name": "stdout",
     "output_type": "stream",
     "text": [
      "[[0.09600619 0.68735475]\n",
      " [0.77952764 0.975029  ]\n",
      " [0.43577815 0.35998805]\n",
      " [0.75585471 0.91915857]\n",
      " [0.65275845 0.30357134]\n",
      " [0.14750068 0.32672942]\n",
      " [0.69165026 0.16485906]]\n",
      "(7, 2)\n",
      "[0.69402719 1.24833685 0.565238   1.19002891 0.71989523 0.35848092\n",
      " 0.71102643]\n",
      "[1.43201928 0.89636537 0.69044292 0.88258508 0.43530637 1.14674058\n",
      " 0.23399003]\n"
     ]
    }
   ],
   "source": [
    "#13.Create a random 7x2 matrix representing 7 2D points. Convert them to polar coordinates\n",
    "matrix=np.random.random((7,2))\n",
    "print(matrix)\n",
    "print(matrix.shape)\n",
    "x,y = matrix[:,0], matrix[:,1]\n",
    "r = np.sqrt(x**2+y**2)\n",
    "t = np.arctan2(y,x)\n",
    "print(r)\n",
    "print(t)"
   ]
  },
  {
   "cell_type": "code",
   "execution_count": 75,
   "metadata": {},
   "outputs": [
    {
     "name": "stdout",
     "output_type": "stream",
     "text": [
      "[[0.60674331 0.28087657 0.96069011 0.83294319 0.89419282 0.96931571\n",
      "  0.22185947 0.79705684 0.0454017  0.27762375]\n",
      " [0.42695842 0.48826173 0.91961839 0.82938427 0.76643538 0.7162711\n",
      "  0.28918734 0.20181812 0.63869867 0.90930045]\n",
      " [0.06382837 0.47124049 0.36483078 0.11274069 0.18164116 0.68402046\n",
      "  0.36665082 0.21028864 0.8585819  0.92067765]\n",
      " [0.59712505 0.48337907 0.16928387 0.48077018 0.31825662 0.92313623\n",
      "  0.51259923 0.2841734  0.96700006 0.54275451]\n",
      " [0.80340412 0.10848671 0.36123476 0.13608474 0.80503165 0.8729225\n",
      "  0.85070797 0.77186133 0.22159865 0.63481245]\n",
      " [0.05512846 0.45149408 0.01768196 0.07587844 0.1714016  0.44571617\n",
      "  0.10148886 0.31282617 0.33630054 0.2325776 ]\n",
      " [0.97338467 0.07879842 0.56537948 0.40551398 0.59259518 0.5520158\n",
      "  0.08728542 0.26255168 0.39794938 0.46767666]\n",
      " [0.36897974 0.63977121 0.55362686 0.84391617 0.54627008 0.06299614\n",
      "  0.50992792 0.82371647 0.82691953 0.02756933]\n",
      " [0.14309225 0.21706265 0.2890921  0.41446833 0.99279413 0.17952494\n",
      "  0.43917961 0.65391581 0.77806866 0.74085185]\n",
      " [0.2658269  0.75764403 0.50734818 0.29751726 0.31203434 0.37009571\n",
      "  0.95432948 0.77982415 0.47150496 0.02285214]]\n",
      "0.5859337441294142\n"
     ]
    }
   ],
   "source": [
    "#14.Generate a 10x10 matrix. Generate a single random number. Find the number in the matrix closest to it\n",
    "matrix_patr10=np.random.random((10,10))\n",
    "number=np.random.rand()\n",
    "print(matrix_patr10)\n",
    "print(number)"
   ]
  },
  {
   "cell_type": "code",
   "execution_count": 81,
   "metadata": {},
   "outputs": [
    {
     "name": "stdout",
     "output_type": "stream",
     "text": [
      "64\n",
      "0.5925951778697783\n"
     ]
    }
   ],
   "source": [
    "def find_nearest(array, value):\n",
    "    idx,val = min(enumerate(array), key=lambda x: abs(x[1]-value))\n",
    "    return idx\n",
    "print(find_nearest( matrix_patr10.flatten(), number ))\n",
    "print(matrix_patr10.flatten()[find_nearest( matrix_patr10.flatten(), number )])"
   ]
  },
  {
   "cell_type": "code",
   "execution_count": null,
   "metadata": {},
   "outputs": [],
   "source": []
  }
 ],
 "metadata": {
  "kernelspec": {
   "display_name": "Python 3",
   "language": "python",
   "name": "python3"
  },
  "language_info": {
   "codemirror_mode": {
    "name": "ipython",
    "version": 3
   },
   "file_extension": ".py",
   "mimetype": "text/x-python",
   "name": "python",
   "nbconvert_exporter": "python",
   "pygments_lexer": "ipython3",
   "version": "3.7.4"
  }
 },
 "nbformat": 4,
 "nbformat_minor": 2
}
